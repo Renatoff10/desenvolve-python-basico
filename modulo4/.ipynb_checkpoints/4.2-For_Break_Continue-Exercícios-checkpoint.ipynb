{
 "cells": [
  {
   "cell_type": "markdown",
   "id": "29e89030",
   "metadata": {},
   "source": [
    "# Módulo 4 - Repetições\n",
    "\n",
    "## Aulas 4.2 - Comando ```for``` e 4.3 Break e Continue"
   ]
  },
  {
   "cell_type": "markdown",
   "id": "a45b42df",
   "metadata": {},
   "source": [
    "### Q1.\n",
    "\n",
    "Crie um programa em Python que utilize o comando for para imprimir os números de 10 a 1, em ordem decrescente."
   ]
  },
  {
   "cell_type": "code",
   "execution_count": 1,
   "id": "55a75b3d",
   "metadata": {},
   "outputs": [
    {
     "name": "stdout",
     "output_type": "stream",
     "text": [
      "10\n",
      "9\n",
      "8\n",
      "7\n",
      "6\n",
      "5\n",
      "4\n",
      "3\n",
      "2\n",
      "1\n"
     ]
    }
   ],
   "source": [
    "for i in range(10, 0, -1):\n",
    "    print(i)\n"
   ]
  },
  {
   "cell_type": "markdown",
   "id": "94b47c36",
   "metadata": {},
   "source": [
    "### Q2.\n",
    "\n",
    "Dado um número inteiro positivo informado pelo usuário, crie um programa em Python que utilize o comando for para calcular e exibir a soma dos números de 1 até o número informado. Ou seja, $1 + 2 + 3 + ... + n$\n",
    "\n",
    "Exemplo de interação:\n",
    "```\n",
    "Digite um número: 5\n",
    "A soma dos números de 1 a 5 é 15\n",
    "```\n"
   ]
  },
  {
   "cell_type": "code",
   "execution_count": 2,
   "id": "45b71596",
   "metadata": {},
   "outputs": [
    {
     "name": "stdout",
     "output_type": "stream",
     "text": [
      "Digite um número: 5\n",
      "A soma dos números de 1 a 5 é 15\n"
     ]
    }
   ],
   "source": [
    "n = int(input(\"Digite um número: \"))\n",
    "soma = 0\n",
    "for i in range(1, n + 1):\n",
    "    soma += i\n",
    "\n",
    "print(f\"A soma dos números de 1 a {n} é {soma}\")\n"
   ]
  },
  {
   "cell_type": "markdown",
   "id": "0411d170",
   "metadata": {},
   "source": [
    "### Q3.\n",
    "\n",
    "Escreva um programa que lê 10 valores inteiros positivos do usuário e ao final imprime a média dos valores digitados com duas casas decimais.\n",
    "\n",
    "```\n",
    "Digite 10 números positivos:\n",
    "3\n",
    "2\n",
    "12\n",
    "14\n",
    "20\n",
    "42\n",
    "19\n",
    "0\n",
    "8\n",
    "1\n",
    "A média dos valores digitados é 12.10\n",
    "```"
   ]
  },
  {
   "cell_type": "code",
   "execution_count": 4,
   "id": "3f72f358",
   "metadata": {},
   "outputs": [
    {
     "name": "stdout",
     "output_type": "stream",
     "text": [
      "Digite 10 números positivos:\n",
      "2\n",
      "4\n",
      "5\n",
      "8\n",
      "7\n",
      "5\n",
      "8\n",
      "6\n",
      "5\n",
      "7\n",
      "A média dos valores digitados é 5.70\n"
     ]
    }
   ],
   "source": [
    "print(\"Digite 10 números positivos:\")\n",
    "soma = 0\n",
    "for _ in range(10):\n",
    "    num = int(input())\n",
    "    soma += num\n",
    "\n",
    "media = soma / 10\n",
    "print(f\"A média dos valores digitados é {media:.2f}\")\n"
   ]
  },
  {
   "cell_type": "markdown",
   "id": "d62e27ff",
   "metadata": {},
   "source": [
    "### Q4.\n",
    "\n",
    "Você vai criar um sistema que registra os resultados dos jogos do Atlético MG ao longo de um campeonato. Seu sistema vai receber os resultados de todos os jogos do Galo, e deve calcular a pontuação do time sabendo que vitórias valem 3 pontos, empates 1 ponto e derrotas 0 pontos.\n",
    "\n",
    "Entrada: <br>\n",
    "A primeira linha de entrada é um inteiro N com a quantidade jogos do galo. Para cada jogo você deve ler 2 inteiros, o primeiro com a quantidade de gols do galo e o segundo com a quantidade de gols do time oponente. \n",
    "\n",
    "Saída: <br>\n",
    "Apresente a soma de vitórias, empates e derrotas do galo, junto com o cálculo da pontuação total.\n",
    "\n",
    "Ex:\n",
    "```\n",
    "Entrada:\n",
    "4\n",
    "2\n",
    "0\n",
    "1\n",
    "1\n",
    "0\n",
    "3\n",
    "1\n",
    "0\n",
    "\n",
    "Saída:\n",
    "Vitórias: 2\n",
    "Empates: 1\n",
    "Derrotas: 1\n",
    "Pontuação: 7\n",
    "\n",
    "```\n",
    "\n",
    "\n"
   ]
  },
  {
   "cell_type": "code",
   "execution_count": 5,
   "id": "d3fdfc2a",
   "metadata": {},
   "outputs": [
    {
     "name": "stdout",
     "output_type": "stream",
     "text": [
      "Quantidade de jogos: 5\n",
      "Gols do Galo: 4\n",
      "Gols do adversário: 2\n",
      "Gols do Galo: 3\n",
      "Gols do adversário: 4\n",
      "Gols do Galo: 5\n",
      "Gols do adversário: 7\n",
      "Gols do Galo: 5\n",
      "Gols do adversário: 2\n",
      "Gols do Galo: 1\n",
      "Gols do adversário: 2\n",
      "Vitórias: 2\n",
      "Empates: 0\n",
      "Derrotas: 3\n",
      "Pontuação: 6\n"
     ]
    }
   ],
   "source": [
    "N = int(input(\"Quantidade de jogos: \"))\n",
    "vitorias = 0\n",
    "empates = 0\n",
    "derrotas = 0\n",
    "pontos = 0\n",
    "\n",
    "for _ in range(N):\n",
    "    galo = int(input(\"Gols do Galo: \"))\n",
    "    adversario = int(input(\"Gols do adversário: \"))\n",
    "\n",
    "    if galo > adversario:\n",
    "        vitorias += 1\n",
    "        pontos += 3\n",
    "    elif galo == adversario:\n",
    "        empates += 1\n",
    "        pontos += 1\n",
    "    else:\n",
    "        derrotas += 1\n",
    "\n",
    "print(f\"Vitórias: {vitorias}\")\n",
    "print(f\"Empates: {empates}\")\n",
    "print(f\"Derrotas: {derrotas}\")\n",
    "print(f\"Pontuação: {pontos}\")\n"
   ]
  },
  {
   "cell_type": "markdown",
   "id": "fc98604d",
   "metadata": {},
   "source": [
    "### Q5.\n",
    "\n",
    "Faça um programa que lê dois inteiros N e M, e imprime na tela um campo de batalha naval. O tabuleiro deve possuir N linhas e M colunas. A primeira linha é composta por um espaço em branco e o cabeçalho das colunas, ou seja, valores de 1 a M. As N linhas seguintes iniciam com o cabeçalho da linha, ou seja, seu número, seguido de M caracteres \"/\" (barra) indicando uma possível posição jogável. \n",
    "\n",
    "```\n",
    "Entrada:\n",
    "5\n",
    "4\n",
    "\n",
    "Saída:\n",
    "  1 2 3 4 \n",
    "1 / / / / \n",
    "2 / / / / \n",
    "3 / / / / \n",
    "4 / / / / \n",
    "5 / / / / \n",
    "```\n",
    "\n",
    "Para esse exercício, precisamos lembrar que o comando print implicitamente adiciona uma quebra de linha ao final da impressão. Podemos interferir no final da impressão adicionando mais uma entrada ao print. No exemplo, finalizamos cada linha com um espaço em branco:\n",
    "```python\n",
    "print(\"Texto qualquer\", end = \" \")\n",
    "```"
   ]
  },
  {
   "cell_type": "code",
   "execution_count": 6,
   "id": "a60ef197",
   "metadata": {},
   "outputs": [
    {
     "name": "stdout",
     "output_type": "stream",
     "text": [
      "Número de linhas: 4\n",
      "Número de colunas: 5\n",
      "  1 2 3 4 5 \n",
      "1 / / / / / \n",
      "2 / / / / / \n",
      "3 / / / / / \n",
      "4 / / / / / \n"
     ]
    }
   ],
   "source": [
    "N = int(input(\"Número de linhas: \"))\n",
    "M = int(input(\"Número de colunas: \"))\n",
    "\n",
    "# Cabeçalho das colunas\n",
    "print(\" \", end=\" \")\n",
    "for j in range(1, M + 1):\n",
    "    print(j, end=\" \")\n",
    "print()\n",
    "\n",
    "# Linhas com os números e barras\n",
    "for i in range(1, N + 1):\n",
    "    print(i, end=\" \")\n",
    "    for _ in range(M):\n",
    "        print(\"/\", end=\" \")\n",
    "    print()\n"
   ]
  },
  {
   "cell_type": "markdown",
   "id": "4654dc0b",
   "metadata": {},
   "source": [
    "---\n",
    "## Break e Continue"
   ]
  },
  {
   "cell_type": "markdown",
   "id": "24fe9d85",
   "metadata": {},
   "source": [
    "### Q6.\n",
    "\n",
    "Escreva um programa que lê uma quantidade indefinida de valores e informa o maior e o menor valor digitados. A leitura é encerrada quando o usuário digitar o valor 0 (zero).\n",
    "\n",
    "```\n",
    "Entrada:\n",
    "12\n",
    "-1\n",
    "29\n",
    "11\n",
    "-5\n",
    "0\n",
    "\n",
    "Saída:\n",
    "Maior: 29\n",
    "Menor: -5\n",
    "```"
   ]
  },
  {
   "cell_type": "code",
   "execution_count": 7,
   "id": "ee1c466a",
   "metadata": {},
   "outputs": [
    {
     "name": "stdout",
     "output_type": "stream",
     "text": [
      "Digite uma quantidade indefinida de valores. Digite 0 para encerrar.\n",
      "Digite um número (ou 0 para encerrar): 5\n",
      "Digite um número (ou 0 para encerrar): 3\n",
      "Digite um número (ou 0 para encerrar): 4\n",
      "Digite um número (ou 0 para encerrar): 5\n",
      "Digite um número (ou 0 para encerrar): 6\n",
      "Digite um número (ou 0 para encerrar): 0\n",
      "Maior: 6.0\n",
      "Menor: 3.0\n"
     ]
    }
   ],
   "source": [
    "print(\"Digite uma quantidade indefinida de valores. Digite 0 para encerrar.\")\n",
    "\n",
    "# Inicializamos as variáveis para armazenar o maior e o menor valores\n",
    "maior = float('-inf')\n",
    "menor = float('inf')\n",
    "\n",
    "while True:\n",
    "    num = float(input(\"Digite um número (ou 0 para encerrar): \"))\n",
    "    \n",
    "    if num == 0:\n",
    "        break\n",
    "    \n",
    "    if num > maior:\n",
    "        maior = num\n",
    "    \n",
    "    if num < menor:\n",
    "        menor = num\n",
    "\n",
    "# Verifica se houve pelo menos um número diferente de zero digitado\n",
    "if maior == float('-inf') or menor == float('inf'):\n",
    "    print(\"Nenhum número diferente de zero foi digitado.\")\n",
    "else:\n",
    "    print(f\"Maior: {maior}\")\n",
    "    print(f\"Menor: {menor}\")\n"
   ]
  },
  {
   "cell_type": "markdown",
   "id": "30d486f7",
   "metadata": {},
   "source": [
    "### Q7.\n",
    "\n",
    "Escreva um programa que lê uma quantidade indefinida de valores e informa o **produto** dos valores positivos digitados. A leitura é encerrada quando o usuário digitar o valor 0 (zero).\n",
    "\n",
    "```\n",
    "Entrada:\n",
    "2\n",
    "-1\n",
    "1\n",
    "3\n",
    "-5\n",
    "0\n",
    "\n",
    "Saída:\n",
    "Produto: 6\n",
    "```"
   ]
  },
  {
   "cell_type": "code",
   "execution_count": 8,
   "id": "2f1ac324",
   "metadata": {},
   "outputs": [
    {
     "name": "stdout",
     "output_type": "stream",
     "text": [
      "Digite uma quantidade indefinida de valores positivos. Digite 0 para encerrar.\n",
      "Digite um número (ou 0 para encerrar): 5\n",
      "Digite um número (ou 0 para encerrar): 7\n",
      "Digite um número (ou 0 para encerrar): 8\n",
      "Digite um número (ou 0 para encerrar): 9\n",
      "Digite um número (ou 0 para encerrar): 5\n",
      "Digite um número (ou 0 para encerrar): 4\n",
      "Digite um número (ou 0 para encerrar): 2\n",
      "Digite um número (ou 0 para encerrar): 0\n",
      "Produto: 100800\n"
     ]
    }
   ],
   "source": [
    "print(\"Digite uma quantidade indefinida de valores positivos. Digite 0 para encerrar.\")\n",
    "\n",
    "produto = 1\n",
    "\n",
    "while True:\n",
    "    num = int(input(\"Digite um número (ou 0 para encerrar): \"))\n",
    "    \n",
    "    if num == 0:\n",
    "        break\n",
    "    \n",
    "    if num > 0:\n",
    "        produto *= num\n",
    "\n",
    "# Verifica se houve pelo menos um número positivo digitado\n",
    "if produto == 1:\n",
    "    print(\"Nenhum número positivo foi digitado.\")\n",
    "else:\n",
    "    print(f\"Produto: {produto}\")\n"
   ]
  },
  {
   "cell_type": "markdown",
   "id": "e932f3cf",
   "metadata": {},
   "source": [
    "### Q8.\n",
    "\n",
    "Vamos fazer uma calculadora que aceita expressões aritméticas de qualquer tamanho até que o usuário digite a palavra \"Fim\". Sua calculadora executa apenas as operações \"+\", \"-\".\n",
    "\n",
    "```\n",
    "Entrada:\n",
    "5\n",
    "+\n",
    "8\n",
    "-\n",
    "3\n",
    "+\n",
    "2\n",
    "Fim\n",
    "\n",
    "Saída:\n",
    "12\n",
    "```"
   ]
  },
  {
   "cell_type": "code",
   "execution_count": null,
   "id": "e835d870",
   "metadata": {},
   "outputs": [
    {
     "name": "stdout",
     "output_type": "stream",
     "text": [
      "Calculadora simples. Digite expressões aritméticas usando + e -.\n",
      "Digite 'Fim' para encerrar.\n"
     ]
    }
   ],
   "source": [
    "print(\"Calculadora simples. Digite expressões aritméticas usando + e -.\")\n",
    "print(\"Digite 'Fim' para encerrar.\")\n",
    "\n",
    "resultado = 0\n",
    "\n",
    "while True:\n",
    "    entrada = input(\"Digite um número ou operador (+ ou -): \")\n",
    "    \n",
    "    if entrada == \"Fim\":\n",
    "        break\n",
    "    \n",
    "    if entrada == \"+\":\n",
    "        num = float(input())\n",
    "        resultado += num\n",
    "    elif entrada == \"-\":\n",
    "        num = float(input())\n",
    "        resultado -= num\n",
    "    else:\n",
    "        try:\n",
    "            num = float(entrada)\n",
    "            resultado += num\n",
    "        except ValueError:\n",
    "            print(\"Entrada inválida. Digite um número ou operador (+ ou -).\")\n",
    "            continue\n",
    "    \n",
    "    print(resultado)\n",
    "\n",
    "print(\"Fim da calculadora.\")\n"
   ]
  },
  {
   "cell_type": "code",
   "execution_count": null,
   "id": "e39aa1fe",
   "metadata": {},
   "outputs": [],
   "source": []
  }
 ],
 "metadata": {
  "kernelspec": {
   "display_name": "Python 3 (ipykernel)",
   "language": "python",
   "name": "python3"
  },
  "language_info": {
   "codemirror_mode": {
    "name": "ipython",
    "version": 3
   },
   "file_extension": ".py",
   "mimetype": "text/x-python",
   "name": "python",
   "nbconvert_exporter": "python",
   "pygments_lexer": "ipython3",
   "version": "3.11.2"
  }
 },
 "nbformat": 4,
 "nbformat_minor": 5
}
